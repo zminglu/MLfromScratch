{
 "cells": [
  {
   "cell_type": "markdown",
   "id": "1ff9213e-7f7d-4b35-aec6-f3af6d845414",
   "metadata": {},
   "source": [
    "# Linear Vector Quantization"
   ]
  },
  {
   "cell_type": "markdown",
   "id": "6fa6f496-3dd6-4775-b7c8-b2bd77b3d4b2",
   "metadata": {},
   "source": [
    "## data load"
   ]
  },
  {
   "cell_type": "code",
   "execution_count": 80,
   "id": "b4be709b-b2b9-4672-ac9b-20e2b16daf81",
   "metadata": {},
   "outputs": [],
   "source": [
    "import pandas as pd"
   ]
  },
  {
   "cell_type": "code",
   "execution_count": 94,
   "id": "88ec9984-20d8-4767-a3b2-e68f0115eab5",
   "metadata": {},
   "outputs": [],
   "source": [
    "train_csv = pd.read_csv(\"LVQ_train.txt\", delimiter = \" \")\n",
    "weight_csv = pd.read_csv(\"LVQ_initial.txt\", delimiter = \" \")\n",
    "# train_data"
   ]
  },
  {
   "cell_type": "code",
   "execution_count": 3,
   "id": "c3a9d7e8-9cf0-4c12-bded-3f783173b6b7",
   "metadata": {
    "collapsed": true,
    "jupyter": {
     "outputs_hidden": true
    },
    "tags": []
   },
   "outputs": [
    {
     "data": {
      "text/plain": [
       "<matplotlib.legend.Legend at 0x7f95820880f0>"
      ]
     },
     "execution_count": 3,
     "metadata": {},
     "output_type": "execute_result"
    },
    {
     "data": {
      "image/png": "[encoded data removed]",
      "text/plain": [
       "<Figure size 432x288 with 1 Axes>"
      ]
     },
     "metadata": {
      "needs_background": "light"
     },
     "output_type": "display_data"
    }
   ],
   "source": [
    "import matplotlib.pyplot as plt \n",
    "plt.scatter(train_data.iloc[:5,0], train_data.iloc[:5,1], c=\"blue\", marker=\"D\", label=\"0\")\n",
    "plt.scatter(train_data.iloc[5:,0], train_data.iloc[5:,1], c=\"red\", marker=\"s\", label=\"1\")\n",
    "plt.legend()"
   ]
  },
  {
   "cell_type": "markdown",
   "id": "625ae047-5a83-4141-a8f8-0bb4e91dbca2",
   "metadata": {},
   "source": [
    "## funcs"
   ]
  },
  {
   "cell_type": "code",
   "execution_count": 83,
   "id": "b6fcc1b0-2b28-4aa3-ad1e-07bf091e0e7d",
   "metadata": {},
   "outputs": [],
   "source": [
    "import numpy as np\n",
    "def EuDist(a, b):\n",
    "    return np.sqrt((a[0]-b[0])**2+(a[1]-b[1])**2)"
   ]
  },
  {
   "cell_type": "code",
   "execution_count": 84,
   "id": "8b65fc9f-6b37-43ea-99cb-6d989ef58a52",
   "metadata": {},
   "outputs": [],
   "source": [
    "def weight_update(weight, train, lr):\n",
    "    mul = 1 if weight[2] == train[2] else -1\n",
    "\n",
    "    weight[0] = weight[0] + mul * lr * (train[0] - weight[0])\n",
    "    weight[1] = weight[1] + mul * lr * (train[1] - weight[1])\n",
    "    \n",
    "    return weight"
   ]
  },
  {
   "cell_type": "code",
   "execution_count": 107,
   "id": "6839598e-770c-4412-b7af-17ca8c600635",
   "metadata": {},
   "outputs": [],
   "source": [
    "def LVQ_eval(weight, train):\n",
    "    count = 0\n",
    "    for i in range(0, len(train)):\n",
    "        for key, value in dict_train.items():\n",
    "            train.loc[i, key] = EuDist(train.loc[i, 'X1':'X2'], weight.loc[value, 'X1':'X2'])\n",
    "        train.loc[i, 'BMU'] = train.loc[i, 'Dist_1':'Dist_4'].astype(float).idxmin(axis=1)\n",
    "        pred = 0 if dict_train[train.loc[i, 'BMU']] < 2 else 1\n",
    "        count = count + 1 if pred == train.loc[i, 'Y'] else count\n",
    "    return count/len(train)"
   ]
  },
  {
   "cell_type": "code",
   "execution_count": 105,
   "id": "3e5b3fc7-3ce7-4a2f-9d24-c8923504cce0",
   "metadata": {},
   "outputs": [],
   "source": [
    "dict_train = {'Dist_1': 0, 'Dist_2': 1, 'Dist_3': 2, 'Dist_4':3}\n",
    "\n",
    "def LVQ_train(MaxEpoch, alpha, weight, train):\n",
    "    for epoch in range(0, MaxEpoch):\n",
    "        lr = alpha * (1 - epoch /MaxEpoch)\n",
    "        for i in range(0, len(train)):\n",
    "            for key, value in dict_train.items():\n",
    "                train.loc[i, key] = EuDist(train.loc[i, 'X1':'X2'], weight.loc[value, 'X1':'X2'])\n",
    "            \n",
    "            BMU_key = train.loc[i, 'Dist_1':'Dist_4'].astype(float).idxmin(axis=1)\n",
    "            train.loc[i, 'BMU'] = BMU_key\n",
    "            weight.iloc[dict_train[BMU_key], :] = weight_update(weight.iloc[dict_train[BMU_key], :], train.iloc[i, :3], lr)\n",
    "        \n",
    "        acc = LVQ_eval(weight, train.loc[:, 'X1':'Y'])\n",
    "    return train, weight, acc"
   ]
  },
  {
   "cell_type": "markdown",
   "id": "fc10041a-f136-470a-9b7c-c72e6d052cc1",
   "metadata": {
    "tags": []
   },
   "source": [
    "### OLD and UGLY code"
   ]
  },
  {
   "cell_type": "code",
   "execution_count": null,
   "id": "f7fe78e3-40d4-4b22-95ea-6d5e38a51472",
   "metadata": {
    "jupyter": {
     "source_hidden": true
    },
    "tags": []
   },
   "outputs": [],
   "source": [
    "\"\"\"\n",
    "def weight_update(weight_x1, weight_x2, weight_y, train_x1, train_x2, train_y, alpha):\n",
    "    if weight_y == train_y:\n",
    "        mul = 1\n",
    "    else: \n",
    "        mul = -1\n",
    "    weight_updated_x1 = weight_x1 + mul * alpha * (train_x1 - weight_x1)\n",
    "    weight_updated_x2 = weight_x2 + mul * alpha * (train_x2 - weight_x2)\n",
    "    \n",
    "    return weight_updated_x1, weight_updated_x2\n",
    "\"\"\""
   ]
  },
  {
   "cell_type": "code",
   "execution_count": null,
   "id": "1a29f33a-85e9-4902-b5de-a005ac4f503c",
   "metadata": {
    "jupyter": {
     "source_hidden": true
    },
    "tags": []
   },
   "outputs": [],
   "source": [
    "\"\"\"\n",
    "def train(MaxEpoch, alpha, weight, train):\n",
    "    \n",
    "    for epoch in range(0, MaxEpoch):\n",
    "        lr = alpha * (1 - epoch /MaxEpoch)\n",
    "        for i in range(0, 1):\n",
    "            train.loc[i, 'Dist_1'] = EuDist(train.loc[i, 'X1'], weight.loc[0, 'X1'],\n",
    "                                    train.loc[i, 'X2'], weight.loc[0, 'X2'])\n",
    "            train.loc[i, 'Dist_2'] = EuDist(train.loc[i, 'X1'], weight.loc[1, 'X1'],\n",
    "                                    train.loc[i, 'X2'], weight.loc[1, 'X2'])\n",
    "            train.loc[i, 'Dist_3'] = EuDist(train.loc[i, 'X1'], weight.loc[2, 'X1'],\n",
    "                                    train.loc[i, 'X2'], weight.loc[2, 'X2'])\n",
    "            train.loc[i, 'Dist_4'] = EuDist(train.loc[i, 'X1'], weight.loc[3, 'X1'],\n",
    "                                    train.loc[i, 'X2'], weight.loc[3, 'X2'])\n",
    "            train[['BMU']] = train[['Dist_1', 'Dist_2', 'Dist_3', 'Dist_4']].astype(float).idxmin(axis=1)\n",
    "            \n",
    "            if train.loc[i, 'BMU'] == 'Dist_1':\n",
    "                weight.iloc[0, :] = weight_update_simple(weight.iloc[0, :], train.iloc[i, :3], alpha)\n",
    "    return train, weight\n",
    "\"\"\""
   ]
  },
  {
   "cell_type": "markdown",
   "id": "3783ccf4-845d-4fc7-a67f-846030c5ce9d",
   "metadata": {},
   "source": [
    "## training"
   ]
  },
  {
   "cell_type": "markdown",
   "id": "424ff661-e5e1-429d-95d4-e299324a0218",
   "metadata": {},
   "source": [
    "### train processing"
   ]
  },
  {
   "cell_type": "code",
   "execution_count": 95,
   "id": "43f7eb55-e460-4fd4-af88-8ee7a566b4ca",
   "metadata": {
    "tags": []
   },
   "outputs": [
    {
     "data": {
      "text/html": [
       "<div>\n",
       "<style scoped>\n",
       "    .dataframe tbody tr th:only-of-type {\n",
       "        vertical-align: middle;\n",
       "    }\n",
       "\n",
       "    .dataframe tbody tr th {\n",
       "        vertical-align: top;\n",
       "    }\n",
       "\n",
       "    .dataframe thead th {\n",
       "        text-align: right;\n",
       "    }\n",
       "</style>\n",
       "<table border=\"1\" class=\"dataframe\">\n",
       "  <thead>\n",
       "    <tr style=\"text-align: right;\">\n",
       "      <th></th>\n",
       "      <th>X1</th>\n",
       "      <th>X2</th>\n",
       "      <th>Y</th>\n",
       "      <th>Dist_1</th>\n",
       "      <th>Dist_2</th>\n",
       "      <th>Dist_3</th>\n",
       "      <th>Dist_4</th>\n",
       "      <th>BMU</th>\n",
       "    </tr>\n",
       "  </thead>\n",
       "  <tbody>\n",
       "    <tr>\n",
       "      <th>0</th>\n",
       "      <td>3.393533</td>\n",
       "      <td>2.331273</td>\n",
       "      <td>0.0</td>\n",
       "      <td>NaN</td>\n",
       "      <td>NaN</td>\n",
       "      <td>NaN</td>\n",
       "      <td>NaN</td>\n",
       "      <td>NaN</td>\n",
       "    </tr>\n",
       "    <tr>\n",
       "      <th>1</th>\n",
       "      <td>3.110073</td>\n",
       "      <td>1.781540</td>\n",
       "      <td>0.0</td>\n",
       "      <td>NaN</td>\n",
       "      <td>NaN</td>\n",
       "      <td>NaN</td>\n",
       "      <td>NaN</td>\n",
       "      <td>NaN</td>\n",
       "    </tr>\n",
       "    <tr>\n",
       "      <th>2</th>\n",
       "      <td>1.343809</td>\n",
       "      <td>3.368361</td>\n",
       "      <td>0.0</td>\n",
       "      <td>NaN</td>\n",
       "      <td>NaN</td>\n",
       "      <td>NaN</td>\n",
       "      <td>NaN</td>\n",
       "      <td>NaN</td>\n",
       "    </tr>\n",
       "    <tr>\n",
       "      <th>3</th>\n",
       "      <td>3.582294</td>\n",
       "      <td>4.679179</td>\n",
       "      <td>0.0</td>\n",
       "      <td>NaN</td>\n",
       "      <td>NaN</td>\n",
       "      <td>NaN</td>\n",
       "      <td>NaN</td>\n",
       "      <td>NaN</td>\n",
       "    </tr>\n",
       "    <tr>\n",
       "      <th>4</th>\n",
       "      <td>2.280362</td>\n",
       "      <td>2.866990</td>\n",
       "      <td>0.0</td>\n",
       "      <td>NaN</td>\n",
       "      <td>NaN</td>\n",
       "      <td>NaN</td>\n",
       "      <td>NaN</td>\n",
       "      <td>NaN</td>\n",
       "    </tr>\n",
       "    <tr>\n",
       "      <th>5</th>\n",
       "      <td>7.423437</td>\n",
       "      <td>4.696523</td>\n",
       "      <td>1.0</td>\n",
       "      <td>NaN</td>\n",
       "      <td>NaN</td>\n",
       "      <td>NaN</td>\n",
       "      <td>NaN</td>\n",
       "      <td>NaN</td>\n",
       "    </tr>\n",
       "    <tr>\n",
       "      <th>6</th>\n",
       "      <td>5.745052</td>\n",
       "      <td>3.533990</td>\n",
       "      <td>1.0</td>\n",
       "      <td>NaN</td>\n",
       "      <td>NaN</td>\n",
       "      <td>NaN</td>\n",
       "      <td>NaN</td>\n",
       "      <td>NaN</td>\n",
       "    </tr>\n",
       "    <tr>\n",
       "      <th>7</th>\n",
       "      <td>9.172169</td>\n",
       "      <td>2.511101</td>\n",
       "      <td>1.0</td>\n",
       "      <td>NaN</td>\n",
       "      <td>NaN</td>\n",
       "      <td>NaN</td>\n",
       "      <td>NaN</td>\n",
       "      <td>NaN</td>\n",
       "    </tr>\n",
       "    <tr>\n",
       "      <th>8</th>\n",
       "      <td>7.792783</td>\n",
       "      <td>3.424089</td>\n",
       "      <td>1.0</td>\n",
       "      <td>NaN</td>\n",
       "      <td>NaN</td>\n",
       "      <td>NaN</td>\n",
       "      <td>NaN</td>\n",
       "      <td>NaN</td>\n",
       "    </tr>\n",
       "    <tr>\n",
       "      <th>9</th>\n",
       "      <td>7.939821</td>\n",
       "      <td>0.791637</td>\n",
       "      <td>1.0</td>\n",
       "      <td>NaN</td>\n",
       "      <td>NaN</td>\n",
       "      <td>NaN</td>\n",
       "      <td>NaN</td>\n",
       "      <td>NaN</td>\n",
       "    </tr>\n",
       "  </tbody>\n",
       "</table>\n",
       "</div>"
      ],
      "text/plain": [
       "         X1        X2    Y  Dist_1  Dist_2  Dist_3  Dist_4  BMU\n",
       "0  3.393533  2.331273  0.0     NaN     NaN     NaN     NaN  NaN\n",
       "1  3.110073  1.781540  0.0     NaN     NaN     NaN     NaN  NaN\n",
       "2  1.343809  3.368361  0.0     NaN     NaN     NaN     NaN  NaN\n",
       "3  3.582294  4.679179  0.0     NaN     NaN     NaN     NaN  NaN\n",
       "4  2.280362  2.866990  0.0     NaN     NaN     NaN     NaN  NaN\n",
       "5  7.423437  4.696523  1.0     NaN     NaN     NaN     NaN  NaN\n",
       "6  5.745052  3.533990  1.0     NaN     NaN     NaN     NaN  NaN\n",
       "7  9.172169  2.511101  1.0     NaN     NaN     NaN     NaN  NaN\n",
       "8  7.792783  3.424089  1.0     NaN     NaN     NaN     NaN  NaN\n",
       "9  7.939821  0.791637  1.0     NaN     NaN     NaN     NaN  NaN"
      ]
     },
     "execution_count": 95,
     "metadata": {},
     "output_type": "execute_result"
    }
   ],
   "source": [
    "temp = pd.DataFrame(columns=['Dist_1', 'Dist_2', 'Dist_3', 'Dist_4', 'BMU'])\n",
    "train = pd.concat([train_csv.copy(deep=True), temp], axis=1).astype(float)\n",
    "train"
   ]
  },
  {
   "cell_type": "code",
   "execution_count": 111,
   "id": "26049573-319d-48d0-93bc-e87dcdaa583b",
   "metadata": {},
   "outputs": [
    {
     "name": "stdout",
     "output_type": "stream",
     "text": [
      "         X1        X2  Y    Dist_1    Dist_2    Dist_3    Dist_4     BMU\n",
      "0  3.393533  2.331273  0  1.551164  4.399250  4.577742  2.347906  Dist_1\n",
      "1  3.110073  1.781540  0  0.351249  4.714868  4.950218  2.911471  Dist_1\n",
      "2  1.343809  3.368361  0  2.434250  6.531832  6.615039  2.433026  Dist_4\n",
      "3  3.582294  4.679179  0  2.895053  4.820880  4.719329  1.547440  Dist_4\n",
      "4  2.280362  2.866990  0  1.410611  5.538391  5.659458  4.802983  Dist_1\n",
      "5  7.423437  4.696523  1  5.316473  2.393914  1.901011  2.312501  Dist_3\n",
      "6  5.745052  3.533990  1  3.333915  2.374812  1.933283  2.705429  Dist_3\n",
      "7  9.172169  2.511101  1  6.612395  1.391058  3.120046  5.094075  Dist_2\n",
      "8  7.792783  3.424089  1  5.305522  1.554845  1.526325  3.507331  Dist_3\n",
      "9  7.939821  0.791637  1  5.659767  1.799056  2.785246  5.889700  Dist_2\n",
      "         X1        X2    Y\n",
      "0  2.559884  2.549261  0.0\n",
      "1  6.048389  3.195024  0.0\n",
      "2  7.343461  3.512290  1.0\n",
      "3  5.700573  6.239053  1.0\n",
      "0.9\n"
     ]
    },
    {
     "name": "stderr",
     "output_type": "stream",
     "text": [
      "/usr/local/lib/python3.6/dist-packages/ipykernel_launcher.py:4: SettingWithCopyWarning: \n",
      "A value is trying to be set on a copy of a slice from a DataFrame\n",
      "\n",
      "See the caveats in the documentation: https://pandas.pydata.org/pandas-docs/stable/user_guide/indexing.html#returning-a-view-versus-a-copy\n",
      "  after removing the cwd from sys.path.\n",
      "/usr/local/lib/python3.6/dist-packages/ipykernel_launcher.py:5: SettingWithCopyWarning: \n",
      "A value is trying to be set on a copy of a slice from a DataFrame\n",
      "\n",
      "See the caveats in the documentation: https://pandas.pydata.org/pandas-docs/stable/user_guide/indexing.html#returning-a-view-versus-a-copy\n",
      "  \"\"\"\n"
     ]
    }
   ],
   "source": [
    "MaxEpoch = 1\n",
    "alpha = 0.7\n",
    "\n",
    "update_train, update_weight, accuracy = LVQ_train(MaxEpoch, alpha, weight_csv.copy(deep=True), train_csv.copy(deep=True))\n",
    "print(update_train)\n",
    "print(update_weight)\n",
    "print(accuracy)"
   ]
  }
 ],
 "metadata": {
  "kernelspec": {
   "display_name": "Python 3",
   "language": "python",
   "name": "python3"
  },
  "language_info": {
   "codemirror_mode": {
    "name": "ipython",
    "version": 3
   },
   "file_extension": ".py",
   "mimetype": "text/x-python",
   "name": "python",
   "nbconvert_exporter": "python",
   "pygments_lexer": "ipython3",
   "version": "3.6.9"
  }
 },
 "nbformat": 4,
 "nbformat_minor": 5
}
