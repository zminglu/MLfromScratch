{
 "cells": [
  {
   "cell_type": "markdown",
   "id": "ef8be8a0-739a-477e-a7ab-e3231a80ef18",
   "metadata": {},
   "source": [
    "# Support Vector Machine"
   ]
  },
  {
   "cell_type": "markdown",
   "id": "5c341dca-1635-4169-9792-924af7a77f70",
   "metadata": {},
   "source": [
    "## history\n",
    "extremely popular around the time it was developed in 1990s"
   ]
  },
  {
   "cell_type": "markdown",
   "id": "843365d7-5abf-4c6f-9a38-12bda3151928",
   "metadata": {},
   "source": [
    "## data prepare"
   ]
  },
  {
   "cell_type": "code",
   "execution_count": 1,
   "id": "ed45fd85-eeb2-41cb-adce-989b55a66fe1",
   "metadata": {},
   "outputs": [],
   "source": [
    "import pandas as pd\n",
    "SVM_data = pd.read_csv('SVM_data.txt', delimiter=' ')"
   ]
  },
  {
   "cell_type": "code",
   "execution_count": 2,
   "id": "42e6f0cd-a801-434d-851c-d3a176b50602",
   "metadata": {
    "tags": []
   },
   "outputs": [
    {
     "data": {
      "text/plain": [
       "(0.0, 4.377844129)"
      ]
     },
     "execution_count": 2,
     "metadata": {},
     "output_type": "execute_result"
    },
    {
     "data": {
      "image/png": "[encoded data removed]",
      "text/plain": [
       "<Figure size 432x288 with 1 Axes>"
      ]
     },
     "metadata": {
      "needs_background": "light"
     },
     "output_type": "display_data"
    }
   ],
   "source": [
    "import os\n",
    "os.environ['MPLCONFIGDIR'] = \"/tmp/\"\n",
    "import matplotlib.pyplot as plt\n",
    "\n",
    "plt.scatter(SVM_data.iloc[:5,0], SVM_data.iloc[:5,1], c=\"blue\", marker=\"D\", label=\"-1\")\n",
    "plt.scatter(SVM_data.iloc[5:,0], SVM_data.iloc[5:,1], c=\"red\", marker=\"s\", label=\"1\")\n",
    "plt.legend()\n",
    "plt.xlim(left=0)\n",
    "plt.ylim(bottom=0)"
   ]
  },
  {
   "cell_type": "markdown",
   "id": "e78e2379-8015-4e2a-a067-094908497dbc",
   "metadata": {},
   "source": [
    "## formulation\n",
    "$$B0 + B1*X1 + B2*X2 = 0$$\n",
    "\n",
    "### coefficient update\n",
    "$$output = Y * B1*X1 + B2*X2$$\n",
    "\n",
    "$$b = (1-\\frac{1}{t})*b$$\n",
    "b, any weight to be updated\n",
    "\n",
    "$$b = (1-\\frac{1}{t})*b + \\frac{1}{lambda*t}*y*x$$\n",
    "lambda, a parameter to learning algorithm, usually <0.0001"
   ]
  },
  {
   "cell_type": "code",
   "execution_count": 3,
   "id": "529dc8c7-5a43-49e6-a91c-8c7a4556c7fb",
   "metadata": {},
   "outputs": [],
   "source": [
    "B1, B2 = 0, 0\n",
    "lam = 0.5\n",
    "acc = []"
   ]
  },
  {
   "cell_type": "code",
   "execution_count": 4,
   "id": "7853fc3d-a0b0-458e-83df-491a36090891",
   "metadata": {},
   "outputs": [],
   "source": [
    "for epoch in range(16):\n",
    "    for t in range(len(SVM_data)):\n",
    "        Y = SVM_data.iloc[t, 2]\n",
    "        X1 = SVM_data.iloc[t, 0]\n",
    "        X2 = SVM_data.iloc[t, 1]\n",
    "\n",
    "        ite = (epoch)*10+(t+1)\n",
    "\n",
    "        output = Y * B1 * X1 + B2 * X2\n",
    "        if output > 1: \n",
    "            # not a support vector\n",
    "            B1 = (1-1/ite) * B1\n",
    "            B2 = (1-1/ite) * B2\n",
    "        else: \n",
    "            # is a support vector\n",
    "            B1 = (1-1/ite) * B1 + 1/(lam*ite) * Y * X1\n",
    "            B2 = (1-1/ite) * B2 + 1/(lam*ite) * Y * X2\n",
    "    \n",
    "    correct_pred = 0\n",
    "    for t in range(len(SVM_data)):\n",
    "        Y = SVM_data.iloc[t, 2]\n",
    "        X1 = SVM_data.iloc[t, 0]\n",
    "        X2 = SVM_data.iloc[t, 1]\n",
    "        output = B1 * X1 + B2 * X2\n",
    "        Ypred = -1 if output<0 else 1\n",
    "        SVM_data.loc[t, \"Ypred\"] = Ypred\n",
    "        correct_pred += 1 if Y==Ypred else 0\n",
    "    acc.append(correct_pred/10)"
   ]
  },
  {
   "cell_type": "code",
   "execution_count": 5,
   "id": "394cd233-e2bb-4c67-800c-ae261641cce3",
   "metadata": {},
   "outputs": [
    {
     "name": "stdout",
     "output_type": "stream",
     "text": [
      "0.7211952765625005 -1.2157085194750004\n"
     ]
    }
   ],
   "source": [
    "print(B1, B2)"
   ]
  },
  {
   "cell_type": "code",
   "execution_count": 6,
   "id": "da5e21ea-a9e9-459d-bcdb-7abd21a8e8c9",
   "metadata": {},
   "outputs": [
    {
     "name": "stdout",
     "output_type": "stream",
     "text": [
      "[0.5, 0.8, 0.8, 0.8, 0.8, 1.0, 1.0, 0.9, 1.0, 1.0, 1.0, 1.0, 1.0, 1.0, 1.0, 1.0]\n"
     ]
    }
   ],
   "source": [
    "print(acc)"
   ]
  },
  {
   "cell_type": "code",
   "execution_count": 7,
   "id": "f1580ca0-bc15-433f-bad3-0337cc0c3ef0",
   "metadata": {},
   "outputs": [
    {
     "data": {
      "text/plain": [
       "Text(0.5, 1.0, 'learing accuracy')"
      ]
     },
     "execution_count": 7,
     "metadata": {},
     "output_type": "execute_result"
    },
    {
     "data": {
      "image/png": "[encoded data removed]",
      "text/plain": [
       "<Figure size 432x288 with 1 Axes>"
      ]
     },
     "metadata": {
      "needs_background": "light"
     },
     "output_type": "display_data"
    }
   ],
   "source": [
    "plt.plot(acc)\n",
    "plt.title('learing accuracy')"
   ]
  },
  {
   "cell_type": "code",
   "execution_count": 8,
   "id": "bcb7687a-337c-437b-82ec-cd9741fd1d74",
   "metadata": {
    "tags": []
   },
   "outputs": [
    {
     "data": {
      "text/plain": [
       "(0.0, 4.983135534610836)"
      ]
     },
     "execution_count": 8,
     "metadata": {},
     "output_type": "execute_result"
    },
    {
     "data": {
      "image/png": "[encoded data removed]",
      "text/plain": [
       "<Figure size 432x288 with 1 Axes>"
      ]
     },
     "metadata": {
      "needs_background": "light"
     },
     "output_type": "display_data"
    }
   ],
   "source": [
    "import numpy as np\n",
    "x = np.linspace(0, 8, 100)\n",
    "plt.plot(x, -B1/B2*x)\n",
    "\n",
    "plt.scatter(SVM_data.iloc[:5,0], SVM_data.iloc[:5,1], c=\"blue\", marker=\"D\", label=\"-1\")\n",
    "plt.scatter(SVM_data.iloc[5:,0], SVM_data.iloc[5:,1], c=\"red\", marker=\"s\", label=\"1\")\n",
    "plt.legend()\n",
    "plt.xlim(left=0)\n",
    "plt.ylim(bottom=0)"
   ]
  }
 ],
 "metadata": {
  "kernelspec": {
   "display_name": "Python 3",
   "language": "python",
   "name": "python3"
  },
  "language_info": {
   "codemirror_mode": {
    "name": "ipython",
    "version": 3
   },
   "file_extension": ".py",
   "mimetype": "text/x-python",
   "name": "python",
   "nbconvert_exporter": "python",
   "pygments_lexer": "ipython3",
   "version": "3.9.2"
  }
 },
 "nbformat": 4,
 "nbformat_minor": 5
}
