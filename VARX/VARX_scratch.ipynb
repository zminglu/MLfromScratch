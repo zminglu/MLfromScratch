{
 "cells": [
  {
   "cell_type": "markdown",
   "id": "bb2f433f-30ec-4547-90c9-cbd569f361e7",
   "metadata": {},
   "source": [
    "# VARX scratch with real-world dataset\n",
    "[data-ref](https://archive.ics.uci.edu/ml/datasets/Occupancy+Detection+)"
   ]
  },
  {
   "cell_type": "markdown",
   "id": "050340e8-7938-4b81-b312-999d5e73c8ee",
   "metadata": {},
   "source": [
    "## data prepare"
   ]
  },
  {
   "cell_type": "code",
   "execution_count": 1,
   "id": "59cf06e9-fd27-4185-807b-3ba2741ad7a3",
   "metadata": {},
   "outputs": [],
   "source": [
    "import pandas as pd\n",
    "\n",
    "import os\n",
    "os.environ['MPLCONFIGDIR'] = \"/tmp/\"\n",
    "import matplotlib.pyplot as plt\n",
    "\n",
    "from VARX import VARX"
   ]
  },
  {
   "cell_type": "code",
   "execution_count": 2,
   "id": "9c5ffb1f-400f-4634-bf0c-fb267775f909",
   "metadata": {},
   "outputs": [
    {
     "data": {
      "text/html": [
       "<div>\n",
       "<style scoped>\n",
       "    .dataframe tbody tr th:only-of-type {\n",
       "        vertical-align: middle;\n",
       "    }\n",
       "\n",
       "    .dataframe tbody tr th {\n",
       "        vertical-align: top;\n",
       "    }\n",
       "\n",
       "    .dataframe thead th {\n",
       "        text-align: right;\n",
       "    }\n",
       "</style>\n",
       "<table border=\"1\" class=\"dataframe\">\n",
       "  <thead>\n",
       "    <tr style=\"text-align: right;\">\n",
       "      <th></th>\n",
       "      <th>Temperature</th>\n",
       "      <th>Humidity</th>\n",
       "      <th>Light</th>\n",
       "      <th>CO2</th>\n",
       "      <th>HumidityRatio</th>\n",
       "      <th>Occupancy</th>\n",
       "    </tr>\n",
       "  </thead>\n",
       "  <tbody>\n",
       "    <tr>\n",
       "      <th>Temperature</th>\n",
       "      <td>1.000000</td>\n",
       "      <td>-0.141759</td>\n",
       "      <td>0.649942</td>\n",
       "      <td>0.559894</td>\n",
       "      <td>0.151762</td>\n",
       "      <td>0.538220</td>\n",
       "    </tr>\n",
       "    <tr>\n",
       "      <th>Humidity</th>\n",
       "      <td>-0.141759</td>\n",
       "      <td>1.000000</td>\n",
       "      <td>0.037828</td>\n",
       "      <td>0.439023</td>\n",
       "      <td>0.955198</td>\n",
       "      <td>0.132964</td>\n",
       "    </tr>\n",
       "    <tr>\n",
       "      <th>Light</th>\n",
       "      <td>0.649942</td>\n",
       "      <td>0.037828</td>\n",
       "      <td>1.000000</td>\n",
       "      <td>0.664022</td>\n",
       "      <td>0.230420</td>\n",
       "      <td>0.907352</td>\n",
       "    </tr>\n",
       "    <tr>\n",
       "      <th>CO2</th>\n",
       "      <td>0.559894</td>\n",
       "      <td>0.439023</td>\n",
       "      <td>0.664022</td>\n",
       "      <td>1.000000</td>\n",
       "      <td>0.626556</td>\n",
       "      <td>0.712235</td>\n",
       "    </tr>\n",
       "    <tr>\n",
       "      <th>HumidityRatio</th>\n",
       "      <td>0.151762</td>\n",
       "      <td>0.955198</td>\n",
       "      <td>0.230420</td>\n",
       "      <td>0.626556</td>\n",
       "      <td>1.000000</td>\n",
       "      <td>0.300282</td>\n",
       "    </tr>\n",
       "    <tr>\n",
       "      <th>Occupancy</th>\n",
       "      <td>0.538220</td>\n",
       "      <td>0.132964</td>\n",
       "      <td>0.907352</td>\n",
       "      <td>0.712235</td>\n",
       "      <td>0.300282</td>\n",
       "      <td>1.000000</td>\n",
       "    </tr>\n",
       "  </tbody>\n",
       "</table>\n",
       "</div>"
      ],
      "text/plain": [
       "               Temperature  Humidity     Light       CO2  HumidityRatio  \\\n",
       "Temperature       1.000000 -0.141759  0.649942  0.559894       0.151762   \n",
       "Humidity         -0.141759  1.000000  0.037828  0.439023       0.955198   \n",
       "Light             0.649942  0.037828  1.000000  0.664022       0.230420   \n",
       "CO2               0.559894  0.439023  0.664022  1.000000       0.626556   \n",
       "HumidityRatio     0.151762  0.955198  0.230420  0.626556       1.000000   \n",
       "Occupancy         0.538220  0.132964  0.907352  0.712235       0.300282   \n",
       "\n",
       "               Occupancy  \n",
       "Temperature     0.538220  \n",
       "Humidity        0.132964  \n",
       "Light           0.907352  \n",
       "CO2             0.712235  \n",
       "HumidityRatio   0.300282  \n",
       "Occupancy       1.000000  "
      ]
     },
     "execution_count": 2,
     "metadata": {},
     "output_type": "execute_result"
    }
   ],
   "source": [
    "train = pd.read_csv('datatraining.txt')\n",
    "train.corr()\n",
    "\n",
    "# corr('Temperature', 'Light') = 0.65\n",
    "# train_data = train_data[['Temperature', 'Light']]"
   ]
  },
  {
   "cell_type": "markdown",
   "id": "f223403a-13d5-4d00-a645-2c1c43713a83",
   "metadata": {},
   "source": [
    "## model define\n",
    "$y(t) = a_0 + \\sum_{i=1}^{n} a_i*y(t-i) + \\sum_{j=0}^{m} b_j*u(t-k-j)$"
   ]
  },
  {
   "cell_type": "markdown",
   "id": "2e520203-ce33-48f6-8014-89a6c485e972",
   "metadata": {},
   "source": [
    "## training"
   ]
  },
  {
   "cell_type": "code",
   "execution_count": 3,
   "id": "62720a7d-7112-405a-a61c-d54617b49cd2",
   "metadata": {},
   "outputs": [],
   "source": [
    "# data and dependent data\n",
    "train_data = train['Temperature'].to_numpy()\n",
    "train_data_exog = train['Light'].to_numpy()"
   ]
  },
  {
   "cell_type": "code",
   "execution_count": 4,
   "id": "ac83fc7b-476f-4208-b223-1fb0be5dc8ce",
   "metadata": {
    "tags": []
   },
   "outputs": [
    {
     "name": "stdout",
     "output_type": "stream",
     "text": [
      "epoch 0, RMSE=13.689\n",
      "epoch 1, RMSE=8.534\n",
      "epoch 2, RMSE=5.333\n",
      "epoch 3, RMSE=3.333\n",
      "epoch 4, RMSE=2.083\n",
      "epoch 5, RMSE=1.303\n",
      "epoch 6, RMSE=0.815\n",
      "epoch 7, RMSE=0.51\n",
      "epoch 8, RMSE=0.321\n",
      "epoch 9, RMSE=0.203\n",
      "epoch 10, RMSE=0.13\n",
      "epoch 11, RMSE=0.086\n",
      "epoch 12, RMSE=0.06\n",
      "epoch 13, RMSE=0.045\n",
      "epoch 14, RMSE=0.038\n",
      "epoch 15, RMSE=0.034\n",
      "epoch 16, RMSE=0.033\n",
      "epoch 17, RMSE=0.032\n",
      "epoch 18, RMSE=0.031\n",
      "epoch 19, RMSE=0.031\n",
      "epoch 20, RMSE=0.031\n",
      "epoch 21, RMSE=0.031\n",
      "epoch 22, RMSE=0.031\n",
      "epoch 23, RMSE=0.031\n",
      "epoch 24, RMSE=0.031\n"
     ]
    },
    {
     "data": {
      "image/png": "[encoded data removed]",
      "text/plain": [
       "<Figure size 432x288 with 1 Axes>"
      ]
     },
     "metadata": {
      "needs_background": "light"
     },
     "output_type": "display_data"
    }
   ],
   "source": [
    "model = VARX()\n",
    "y_hat = model.training(data = train_data, data_exog = train_data_exog, lr = 10**-7, epoch = 25)\n",
    "model.plot_rmse()"
   ]
  },
  {
   "cell_type": "code",
   "execution_count": 5,
   "id": "bb5dc2af-0148-40cb-9912-0857aed54bcb",
   "metadata": {
    "tags": []
   },
   "outputs": [
    {
     "data": {
      "text/plain": [
       "<matplotlib.legend.Legend at 0x7f4797509fa0>"
      ]
     },
     "execution_count": 5,
     "metadata": {},
     "output_type": "execute_result"
    },
    {
     "data": {
      "image/png": "[encoded data removed]",
      "text/plain": [
       "<Figure size 432x288 with 1 Axes>"
      ]
     },
     "metadata": {
      "needs_background": "light"
     },
     "output_type": "display_data"
    }
   ],
   "source": [
    "import matplotlib.pyplot as plt\n",
    "plt.plot(y_hat, label='trained')\n",
    "plt.plot(train_data[2:], label='real')\n",
    "plt.legend()"
   ]
  },
  {
   "cell_type": "markdown",
   "id": "510d3917-2091-43c8-b610-fb6ec49f1f82",
   "metadata": {},
   "source": [
    "## test"
   ]
  },
  {
   "cell_type": "code",
   "execution_count": 6,
   "id": "83b99c30-25b1-4087-9ec3-3d1cbbd57299",
   "metadata": {},
   "outputs": [
    {
     "data": {
      "text/html": [
       "<div>\n",
       "<style scoped>\n",
       "    .dataframe tbody tr th:only-of-type {\n",
       "        vertical-align: middle;\n",
       "    }\n",
       "\n",
       "    .dataframe tbody tr th {\n",
       "        vertical-align: top;\n",
       "    }\n",
       "\n",
       "    .dataframe thead th {\n",
       "        text-align: right;\n",
       "    }\n",
       "</style>\n",
       "<table border=\"1\" class=\"dataframe\">\n",
       "  <thead>\n",
       "    <tr style=\"text-align: right;\">\n",
       "      <th></th>\n",
       "      <th>Temperature</th>\n",
       "      <th>Humidity</th>\n",
       "      <th>Light</th>\n",
       "      <th>CO2</th>\n",
       "      <th>HumidityRatio</th>\n",
       "      <th>Occupancy</th>\n",
       "    </tr>\n",
       "  </thead>\n",
       "  <tbody>\n",
       "    <tr>\n",
       "      <th>Temperature</th>\n",
       "      <td>1.000000</td>\n",
       "      <td>0.716988</td>\n",
       "      <td>0.768428</td>\n",
       "      <td>0.870226</td>\n",
       "      <td>0.894548</td>\n",
       "      <td>0.705784</td>\n",
       "    </tr>\n",
       "    <tr>\n",
       "      <th>Humidity</th>\n",
       "      <td>0.716988</td>\n",
       "      <td>1.000000</td>\n",
       "      <td>0.561905</td>\n",
       "      <td>0.911611</td>\n",
       "      <td>0.951914</td>\n",
       "      <td>0.610764</td>\n",
       "    </tr>\n",
       "    <tr>\n",
       "      <th>Light</th>\n",
       "      <td>0.768428</td>\n",
       "      <td>0.561905</td>\n",
       "      <td>1.000000</td>\n",
       "      <td>0.769167</td>\n",
       "      <td>0.693286</td>\n",
       "      <td>0.927949</td>\n",
       "    </tr>\n",
       "    <tr>\n",
       "      <th>CO2</th>\n",
       "      <td>0.870226</td>\n",
       "      <td>0.911611</td>\n",
       "      <td>0.769167</td>\n",
       "      <td>1.000000</td>\n",
       "      <td>0.964440</td>\n",
       "      <td>0.768030</td>\n",
       "    </tr>\n",
       "    <tr>\n",
       "      <th>HumidityRatio</th>\n",
       "      <td>0.894548</td>\n",
       "      <td>0.951914</td>\n",
       "      <td>0.693286</td>\n",
       "      <td>0.964440</td>\n",
       "      <td>1.000000</td>\n",
       "      <td>0.700330</td>\n",
       "    </tr>\n",
       "    <tr>\n",
       "      <th>Occupancy</th>\n",
       "      <td>0.705784</td>\n",
       "      <td>0.610764</td>\n",
       "      <td>0.927949</td>\n",
       "      <td>0.768030</td>\n",
       "      <td>0.700330</td>\n",
       "      <td>1.000000</td>\n",
       "    </tr>\n",
       "  </tbody>\n",
       "</table>\n",
       "</div>"
      ],
      "text/plain": [
       "               Temperature  Humidity     Light       CO2  HumidityRatio  \\\n",
       "Temperature       1.000000  0.716988  0.768428  0.870226       0.894548   \n",
       "Humidity          0.716988  1.000000  0.561905  0.911611       0.951914   \n",
       "Light             0.768428  0.561905  1.000000  0.769167       0.693286   \n",
       "CO2               0.870226  0.911611  0.769167  1.000000       0.964440   \n",
       "HumidityRatio     0.894548  0.951914  0.693286  0.964440       1.000000   \n",
       "Occupancy         0.705784  0.610764  0.927949  0.768030       0.700330   \n",
       "\n",
       "               Occupancy  \n",
       "Temperature     0.705784  \n",
       "Humidity        0.610764  \n",
       "Light           0.927949  \n",
       "CO2             0.768030  \n",
       "HumidityRatio   0.700330  \n",
       "Occupancy       1.000000  "
      ]
     },
     "execution_count": 6,
     "metadata": {},
     "output_type": "execute_result"
    }
   ],
   "source": [
    "test = pd.read_csv('datatest.txt')\n",
    "test.corr()"
   ]
  },
  {
   "cell_type": "code",
   "execution_count": 7,
   "id": "5583fd1b-6f73-4bbd-b55c-0c7c8884b6b8",
   "metadata": {},
   "outputs": [],
   "source": [
    "# data and dependent data\n",
    "test_data = test['Temperature'].to_numpy()\n",
    "test_data_exog = test['Light'].to_numpy()"
   ]
  },
  {
   "cell_type": "code",
   "execution_count": 8,
   "id": "d17019d7-fbef-4e64-8ae7-30c4b5ee0e3b",
   "metadata": {},
   "outputs": [],
   "source": [
    "y_pred = model.prediction(data = test_data, data_exog = test_data_exog)"
   ]
  },
  {
   "cell_type": "code",
   "execution_count": 9,
   "id": "31b67d14-9734-46b7-8787-e8167efd1ce0",
   "metadata": {},
   "outputs": [
    {
     "data": {
      "text/plain": [
       "<matplotlib.legend.Legend at 0x7f47974cd3d0>"
      ]
     },
     "execution_count": 9,
     "metadata": {},
     "output_type": "execute_result"
    },
    {
     "data": {
      "image/png": "[encoded data removed]",
      "text/plain": [
       "<Figure size 432x288 with 1 Axes>"
      ]
     },
     "metadata": {
      "needs_background": "light"
     },
     "output_type": "display_data"
    }
   ],
   "source": [
    "plt.plot(y_pred, label='test')\n",
    "plt.plot(test_data[2:], label='real')\n",
    "plt.legend()"
   ]
  }
 ],
 "metadata": {
  "kernelspec": {
   "display_name": "Python 3",
   "language": "python",
   "name": "python3"
  },
  "language_info": {
   "codemirror_mode": {
    "name": "ipython",
    "version": 3
   },
   "file_extension": ".py",
   "mimetype": "text/x-python",
   "name": "python",
   "nbconvert_exporter": "python",
   "pygments_lexer": "ipython3",
   "version": "3.9.2"
  }
 },
 "nbformat": 4,
 "nbformat_minor": 5
}
